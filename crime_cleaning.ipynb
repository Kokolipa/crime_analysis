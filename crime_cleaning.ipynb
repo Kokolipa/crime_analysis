{
 "cells": [
  {
   "cell_type": "code",
   "execution_count": 3,
   "metadata": {},
   "outputs": [],
   "source": [
    "import pandas as pd\n",
    "import numpy as np\n",
    "import requests\n",
    "import json\n",
    "import os\n",
    "from config import geoapify_key\n",
    "import zipfile\n"
   ]
  },
  {
   "attachments": {},
   "cell_type": "markdown",
   "metadata": {},
   "source": [
    "### Data Processing (collection and manipulation of data)"
   ]
  },
  {
   "attachments": {},
   "cell_type": "markdown",
   "metadata": {},
   "source": [
    "#### Collection"
   ]
  },
  {
   "cell_type": "code",
   "execution_count": null,
   "metadata": {},
   "outputs": [],
   "source": [
    "# Zip File Extraction\n",
    "    # ? Insead of extracting one zip file at a given time, we will extract all the zip files using a for loop\n",
    "def unzip_files(zip_path, extract_path):\n",
    "    for zip_path in zip_paths:\n",
    "        with zipfile.ZipFile (zip_path, 'r') as zObject:\n",
    "        # * Extracting all memebters of the zip files into a specific location\n",
    "            zObject.extractall(\n",
    "                path = extract_path\n",
    "            )\n",
    "# * Usage zip function - Variables:\n",
    "zip_paths = [\"/Users/galbeeir/Desktop/git/crime_analysis/Data source zips/Datasets_1.zip\", \"/Users/galbeeir/Desktop/git/crime_analysis/Data source zips/Datasets_2.zip\"]\n",
    "extract_path = \"/Users/galbeeir/Desktop/git/crime_analysis/\"\n",
    "\n",
    "# * Executing the zip function\n",
    "unzip_files(zip_paths, extract_path)\n"
   ]
  },
  {
   "cell_type": "code",
   "execution_count": null,
   "metadata": {},
   "outputs": [],
   "source": [
    "# * List of directories\n",
    "datasets_1 = \"/Users/galbeeir/Desktop/git/crime_analysis/Datasets_1/\"\n",
    "datasets_2 = \"/Users/galbeeir/Desktop/git/crime_analysis/Datasets_2/\"\n",
    "\n",
    "# * List all the files from the directory\n",
    "file_list_1 = os.listdir(datasets_1)\n",
    "file_list_2 = os.listdir(datasets_2)\n",
    "\n",
    "# * Merge all files stored in file_list\n",
    "crime_df = pd.DataFrame()\n",
    "\n",
    "# * Merge all files stored in file_list_1\n",
    "for file in file_list_1:\n",
    "    if file.endswith(\".csv\"):\n",
    "        file_path = os.path.join(datasets_1, file)\n",
    "        df = pd.read_csv(file_path, delimiter=',', encoding='utf-8')\n",
    "        crime_df = pd.concat([crime_df, df])\n",
    "\n",
    "# * Merge all files stored in file_list_2\n",
    "for file in file_list_2:\n",
    "    if file.endswith(\".csv\"):\n",
    "        file_path = os.path.join(datasets_2, file)\n",
    "        df = pd.read_csv(file_path, delimiter=',', encoding='utf-8')\n",
    "        crime_df = pd.concat([crime_df, df])\n",
    "    \n",
    "     \n",
    "crime_df.head()"
   ]
  },
  {
   "attachments": {},
   "cell_type": "markdown",
   "metadata": {},
   "source": [
    "#### Key definitions\n",
    "1. Ward = City council (There are **50 in Chicago**) \n",
    "2. Community Areas = There are **77 commnuity areas** in Chicago \n",
    "    * => [Chicago - Community Areas & Wards](https://www.chicago.gov/city/en/depts/dgs/supp_info/citywide_maps.html)\n",
    "3. District = There are **25 police districts** in Chicago => [Police Districts](https://home.chicagopolice.org/about/police-districts/)\n",
    "\n",
    "**Data processing actions:**\n",
    "Convert the community areas numbers to names=>\n",
    "- Method = using pd.read_html - using the following link => [Wikipadia - community areas in Chicago](https://en.wikipedia.org/wiki/Community_areas_in_Chicago)\n",
    "\n",
    "*Note:*<br>\n",
    "To find out more about *Ward, Community Areas, and Police Distrits*, please click here ->[`resources`](https://github.com/Kokolipa/crime_analysis/tree/main/Resources)\n",
    "<br>"
   ]
  },
  {
   "cell_type": "code",
   "execution_count": null,
   "metadata": {},
   "outputs": [],
   "source": [
    "# Importing Chicago community area names and codes from wikipedia\n",
    "chi_community_areas = (pd.read_html(\"https://en.wikipedia.org/wiki/Community_areas_in_Chicago\")[0]\n",
    " .droplevel(level=0, axis=1)\n",
    " .set_index('No.')\n",
    " .drop(['(sq mi.)', '(/sq mi.)', '(km2)', '(/km2)'], axis=1)\n",
    " .rename(columns={'.mw-parser-output .nobold{font-weight:normal}(2020)[10]': 'Population'}))\n",
    "\n",
    "chi_community_areas.head()"
   ]
  },
  {
   "cell_type": "code",
   "execution_count": null,
   "metadata": {},
   "outputs": [],
   "source": [
    "# Removing the Total row an the button of the dataframe\n",
    "chi_community_areas = chi_community_areas.iloc[:-1]"
   ]
  },
  {
   "cell_type": "code",
   "execution_count": null,
   "metadata": {},
   "outputs": [],
   "source": [
    "# Changing the dtype of \n",
    "chi_community_areas.index = chi_community_areas.index.astype('Int8')\n",
    "chi_community_areas.head()"
   ]
  },
  {
   "cell_type": "code",
   "execution_count": null,
   "metadata": {},
   "outputs": [],
   "source": [
    "# Transforming the dtype of Community area from crime_df\n",
    "crime_df['Community Area'] = crime_df['Community Area'].astype('Int8')"
   ]
  },
  {
   "cell_type": "code",
   "execution_count": null,
   "metadata": {},
   "outputs": [],
   "source": [
    "# Validation transformation\n",
    "crime_df['Community Area'].dtype"
   ]
  },
  {
   "cell_type": "code",
   "execution_count": null,
   "metadata": {},
   "outputs": [],
   "source": [
    "# Merging both of the dataframes\n",
    "crime_df = pd.merge(\n",
    "    left = crime_df,\n",
    "    right = chi_community_areas,\n",
    "    how = 'left',\n",
    "    left_on= ['Community Area'],\n",
    "    right_on= ['No.'],\n",
    ")"
   ]
  },
  {
   "cell_type": "code",
   "execution_count": null,
   "metadata": {},
   "outputs": [],
   "source": [
    "crime_df.columns"
   ]
  },
  {
   "cell_type": "code",
   "execution_count": null,
   "metadata": {},
   "outputs": [],
   "source": [
    "# Renaming columns\n",
    "crime_df.drop(['Unnamed: 0', 'Community Area', 'Population', 'Description', 'IUCR', 'Beat'], axis=1, inplace=True)"
   ]
  },
  {
   "cell_type": "code",
   "execution_count": null,
   "metadata": {},
   "outputs": [],
   "source": [
    "# Reorginising the columns of the dataset\n",
    "crime_df = crime_df.reindex(labels=['ID', 'Case Number', 'Date', 'Year','Updated On','Block', 'Primary Type', 'Location Description', 'Arrest', 'Domestic', 'District', 'Ward', 'Name', 'Latitude', 'Longitude'], axis=1)"
   ]
  },
  {
   "cell_type": "code",
   "execution_count": null,
   "metadata": {},
   "outputs": [],
   "source": [
    "# Dropping irrelevant columns\n",
    "crime_df.rename(columns={'Name': 'Community Area', 'District': 'Police District'}, inplace=True)"
   ]
  },
  {
   "attachments": {},
   "cell_type": "markdown",
   "metadata": {},
   "source": [
    "#### Manipulation"
   ]
  },
  {
   "cell_type": "code",
   "execution_count": null,
   "metadata": {},
   "outputs": [],
   "source": [
    "# Search key method (ABC)\n",
    "crime_df.loc[crime_df['Primary Type'].str.startswith('C')]['Primary Type'].value_counts()"
   ]
  },
  {
   "cell_type": "code",
   "execution_count": null,
   "metadata": {},
   "outputs": [],
   "source": [
    "crime_df['Primary Type'].replace({'CRIM SEXUAL ASSAULT': 'CRIMINAL SEXUAL ASSAULT'}, inplace=True)"
   ]
  },
  {
   "cell_type": "code",
   "execution_count": null,
   "metadata": {},
   "outputs": [],
   "source": [
    "# Replacing NaN values in the Location Description column with 'BLANK' value\n",
    "crime_df['Location Description'].fillna('Blank', inplace=True)"
   ]
  },
  {
   "cell_type": "code",
   "execution_count": null,
   "metadata": {},
   "outputs": [],
   "source": [
    "# Search key method (ABC)\n",
    "crime_df.loc[crime_df['Location Description'].str.startswith('Z')]['Location Description'].value_counts()"
   ]
  },
  {
   "cell_type": "code",
   "execution_count": null,
   "metadata": {},
   "outputs": [],
   "source": [
    "# Replacing all duplicated / look alike values\n",
    "crime_df['Location Description'].replace({'AIRPORT TERMINAL UPPER LEVEL - SECURE AREA': 'AIRPORT',\n",
    "                                          'AIRPORT TERMINAL LOWER LEVEL - NON-SECURE AREA': 'AIRPORT',\n",
    "                                          'AIRPORT PARKING LOT': 'AIRPORT',\n",
    "                                          'AIRPORT BUILDING NON-TERMINAL - NON-SECURE AREA': 'AIRPORT',\n",
    "                                          'AIRPORT TERMINAL UPPER LEVEL - NON-SECURE AREA': 'AIRPORT',\n",
    "                                          'AIRPORT EXTERIOR - NON-SECURE AREA': 'AIRPORT',\n",
    "                                          'AIRPORT BUILDING NON-TERMINAL - SECURE AREA': 'AIRPORT',\n",
    "                                          'AIRPORT EXTERIOR - SECURE AREA': 'AIRPORT',\n",
    "                                          'AIRPORT/AIRCRAFT': 'AIRPORT',\n",
    "                                          'AIRPORT VENDING ESTABLISHMENT': 'AIRPORT',\n",
    "                                          'AIRPORT TRANSPORTATION SYSTEM (ATS)': 'AIRPORT',\n",
    "                                          'AIRPORT TERMINAL MEZZANINE - NON-SECURE AREA ': 'AIRPORT',\n",
    "                                          'BOAT / WATERCRAFT': 'BOAT/WATERCRAFT',\n",
    "                                          'CTA TRAIN': 'CRIMINAL TRIBES ACT',\n",
    "                                          'CTA BUS': 'CRIMINAL TRIBES ACT',\n",
    "                                          'CTA PLATFORM': 'CRIMINAL TRIBES ACT',\n",
    "                                          'CTA STATION': 'CRIMINAL TRIBES ACT',\n",
    "                                          'CTA BUS STOP': 'CRIMINAL TRIBES ACT',\n",
    "                                          'CTA PARKING LOT / GARAGE / OTHER PROPERTY': 'CRIMINAL TRIBES ACT',\n",
    "                                          'CTA GARAGE / OTHER PROPERTY': 'CRIMINAL TRIBES ACT',\n",
    "                                          'CTA TRACKS - RIGHT OF WAY': 'CRIMINAL TRIBES ACT',\n",
    "                                          'CTA \"L\" TRAIN': 'CRIMINAL TRIBES ACT',\n",
    "                                          'CTA \"L\" PLATFORM': 'CRIMINAL TRIBES ACT',\n",
    "                                          'CTA PROPERTY': 'CRIMINAL TRIBES ACT',\n",
    "                                          'CTA SUBWAY STATION': 'CRIMINAL TRIBES ACT',\n",
    "                                          'CHA APARTMENT': 'CHICAGO HOUSING AUTHORITY',\n",
    "                                          'CHA PARKING LOT / GROUNDS': 'CHICAGO HOUSING AUTHORITY',\n",
    "                                          'CHA HALLWAY / STAIRWELL / ELEVATOR': 'CHICAGO HOUSING AUTHORITY',\n",
    "                                          'CHA HALLWAY/STAIRWELL/ELEVATOR': 'CHICAGO HOUSING AUTHORITY',\n",
    "                                          'CHA PARKING LOT': 'CHICAGO HOUSING AUTHORITY',\n",
    "                                          'CHA GROUNDS': 'CHICAGO HOUSING AUTHORITY',\n",
    "                                          'CHA LOBBY': 'CHICAGO HOUSING AUTHORITY',\n",
    "                                          'CHA PLAY LOT': 'CHICAGO HOUSING AUTHORITY',\n",
    "                                          'CHA HALLWAY': 'CHICAGO HOUSING AUTHORITY',\n",
    "                                          'CHA ELEVATOR': 'CHICAGO HOUSING AUTHORITY',\n",
    "                                          'CHURCH/SYNAGOGUE/PLACE OF WORSHIP': 'CHURCH',\n",
    "                                          'CHURCH / SYNAGOGUE / PLACE OF WORSHIP': 'CHURCH',\n",
    "                                          'COLLEGE / UNIVERSITY - GROUNDS': 'COLLEGE/UNIVERSITY',\n",
    "                                          'COLLEGE/UNIVERSITY GROUNDS': 'COLLEGE/UNIVERSITY',\n",
    "                                          'FACTORY / MANUFACTURING BUILDING':'FACTORY/MANUFACTURING BUILDING',\n",
    "                                          'GAS STATION DRIVE/PROP.': 'GAS STATION',\n",
    "                                          'GOVERNMENT BUILDING / PROPERTY':'GOVERNMENT BUILDING/PROPERTY',\n",
    "                                          'HOTEL / MOTEL': 'HOTEL/MOTEL',\n",
    "                                          'HOSPITAL BUILDING / GROUNDS': 'HOSPITAL',\n",
    "                                          'HOSPITAL BUILDING/GROUNDS': 'HOSPITAL',\n",
    "                                          'LAKEFRONT / WATERFRONT / RIVERBANK':'LAKEFRONT/WATERFRONT/RIVERBANK',\n",
    "                                          'MOVIE HOUSE / THEATER': 'MOVIE HOUSE/THEATER',\n",
    "                                          'MEDICAL / DENTAL OFFICE':'MEDICAL/DENTAL OFFICE',\n",
    "                                          'NURSING / RETIREMENT HOME':'NURSING HOME/RETIREMENT HOME',\n",
    "                                          'NURSING HOME':'NURSING HOME/RETIREMENT HOME',\n",
    "                                          'OTHER (SPECIFY)':'OTHER',\n",
    "                                          'OTHER RAILROAD PROPERTY / TRAIN DEPOT':'OTHER RAILROAD PROP/TRAIN DEPOT',\n",
    "                                          'OTHER RAILROAD PROP / TRAIN DEPOT':'OTHER RAILROAD PROP/TRAIN DEPOT',\n",
    "                                          'PARKING LOT / GARAGE (NON RESIDENTIAL)': 'PARKING LOT/GARAGE',\n",
    "                                          'PARKING LOT/GARAGE(NON.RESID.)': 'PARKING LOT/GARAGE',\n",
    "                                          'POLICE FACILITY / VEHICLE PARKING LOT': 'POLICE FACILITY',\n",
    "                                          'POLICE FACILITY/VEH PARKING LOT':'POLICE FACILITY',\n",
    "                                          'RESIDENCE - PORCH / HALLWAY': 'RESIDENCE',\n",
    "                                          'RESIDENCE - YARD (FRONT / BACK)': 'RESIDENCE',\n",
    "                                          'RESIDENCE - GARAGE': 'RESIDENCE',\n",
    "                                          'RESIDENCE PORCH/HALLWAY': 'RESIDENCE',\n",
    "                                          'RESIDENTIAL YARD (FRONT/BACK)': 'RESIDENCE',\n",
    "                                          'RESIDENCE-GARAGE':'RESIDENCE', \n",
    "                                          'SCHOOL - PUBLIC BUILDING': 'SCHOOL',\n",
    "                                          'SCHOOL, PUBLIC, BUILDING': 'SCHOOL',\n",
    "                                          'SCHOOL - PUBLIC GROUNDS': 'SCHOOL',\n",
    "                                          'SCHOOL, PUBLIC, GROUNDS': 'SCHOOL',\n",
    "                                          'SCHOOL - PRIVATE GROUNDS': 'SCHOOL',\n",
    "                                          'SCHOOL, PRIVATE, BUILDING': 'SCHOOL',\n",
    "                                          'SCHOOL - PRIVATE BUILDING': 'SCHOOL',\n",
    "                                          'SCHOOL, PRIVATE, GROUNDS': 'SCHOOL',\n",
    "                                          'SCHOOL YARD': 'SCHOOL',\n",
    "                                          'SPORTS ARENA / STADIUM': 'SPORTS ARENA/STADIUM',\n",
    "                                          'TAVERN / LIQUOR STORE': 'TAVERN/LIQUOR STORE',\n",
    "                                          'VEHICLE - COMMERCIAL':'VEHICLE-COMMERCIAL',\n",
    "                                          'VEHICLE - COMMERCIAL: ENTERTAINMENT / PARTY BUS':'VEHICLE-COMMERCIAL',\n",
    "                                          'VEHICLE - COMMERCIAL: TROLLEY BUS':'VEHICLE-COMMERCIAL',\n",
    "                                          'VEHICLE-COMMERCIAL - TROLLEY BUS':'VEHICLE-COMMERCIAL',\n",
    "                                          'VEHICLE - COMMERCIAL':'VEHICLE-COMMERCIAL',\n",
    "                                          'VEHICLE-COMMERCIAL - ENTERTAINMENT/PARTY BUS':'VEHICLE-COMMERCIAL',\n",
    "                                          'VEHICLE - OTHER RIDE SHARE SERVICE (LYFT, UBER, ETC.)':'VEHICLE-OTHER RIDE SHARE SERVICE',\n",
    "                                          'VEHICLE - OTHER RIDE SHARE SERVICE (E.G., UBER, LYFT)':'VEHICLE-OTHER RIDE SHARE SERVICE',\n",
    "                                          }, inplace=True)"
   ]
  },
  {
   "cell_type": "code",
   "execution_count": null,
   "metadata": {},
   "outputs": [],
   "source": [
    "crime_df.head()"
   ]
  },
  {
   "attachments": {},
   "cell_type": "markdown",
   "metadata": {},
   "source": [
    "### Memory Optimization"
   ]
  },
  {
   "cell_type": "code",
   "execution_count": null,
   "metadata": {},
   "outputs": [],
   "source": [
    "crime_df.info(memory_usage='deep')"
   ]
  },
  {
   "cell_type": "code",
   "execution_count": null,
   "metadata": {},
   "outputs": [],
   "source": [
    "crime_df.head()"
   ]
  },
  {
   "cell_type": "code",
   "execution_count": null,
   "metadata": {},
   "outputs": [],
   "source": [
    "# Bits - reduction\n",
    "crime_df = crime_df.astype({'Year': 'Int16',\n",
    "                'Police District': 'Int8',\n",
    "                'Ward': 'category',\n",
    "                'Location Description': 'category',\n",
    "                'Primary Type': 'category',\n",
    "                'ID': 'Int32',\n",
    "                'Latitude': 'float32',\n",
    "                'Longitude': 'float32'})\n"
   ]
  },
  {
   "cell_type": "code",
   "execution_count": null,
   "metadata": {},
   "outputs": [],
   "source": [
    "crime_df['Date'] = pd.to_datetime(\n",
    "    crime_df['Date'],\n",
    "    errors = 'coerce',\n",
    "    infer_datetime_format=True, \n",
    ")"
   ]
  },
  {
   "cell_type": "code",
   "execution_count": null,
   "metadata": {},
   "outputs": [],
   "source": [
    "crime_df['Updated On'] = pd.to_datetime(\n",
    "    crime_df['Updated On'],\n",
    "    errors = 'coerce',\n",
    "    infer_datetime_format=True, \n",
    "    format ='%T'\n",
    ")"
   ]
  },
  {
   "cell_type": "code",
   "execution_count": null,
   "metadata": {},
   "outputs": [],
   "source": [
    "# Memory consumption reduction = 200 + MB\n",
    "crime_df.info(memory_usage='deep')"
   ]
  },
  {
   "attachments": {},
   "cell_type": "markdown",
   "metadata": {},
   "source": [
    "### Data Cleaning"
   ]
  },
  {
   "cell_type": "code",
   "execution_count": null,
   "metadata": {},
   "outputs": [],
   "source": [
    "crime_df.isna().sum()"
   ]
  },
  {
   "cell_type": "code",
   "execution_count": null,
   "metadata": {},
   "outputs": [],
   "source": [
    "crime_df['Ward'].fillna('Blank', inplace=True)"
   ]
  },
  {
   "cell_type": "code",
   "execution_count": null,
   "metadata": {},
   "outputs": [],
   "source": [
    "crime_df['Community Area'].fillna('Blank', inplace=True)"
   ]
  },
  {
   "cell_type": "code",
   "execution_count": null,
   "metadata": {},
   "outputs": [],
   "source": [
    "crime_df.dropna(subset=['Latitude', 'Longitude'], how='any', inplace=True)"
   ]
  },
  {
   "attachments": {},
   "cell_type": "markdown",
   "metadata": {},
   "source": [
    "#### NOTE:\n",
    "Because our crime dataset include 17,800 records of NaN values in both Latitude and Longitude we removed them as the purpose of this analysis is to explore the distribution of crime before and after COVID-19"
   ]
  },
  {
   "cell_type": "code",
   "execution_count": null,
   "metadata": {},
   "outputs": [],
   "source": [
    "crime_df.isna().sum()"
   ]
  },
  {
   "cell_type": "code",
   "execution_count": null,
   "metadata": {},
   "outputs": [],
   "source": [
    "crime_df.info()"
   ]
  },
  {
   "attachments": {},
   "cell_type": "markdown",
   "metadata": {},
   "source": [
    "#### Exporting the data to ZipFile for Analysis"
   ]
  },
  {
   "cell_type": "code",
   "execution_count": null,
   "metadata": {},
   "outputs": [],
   "source": [
    "crime_df.to_csv(\"/Users/galbeeir/Desktop/git/crime_analysis/crime_cleaned.csv\")"
   ]
  },
  {
   "cell_type": "code",
   "execution_count": 4,
   "metadata": {},
   "outputs": [
    {
     "name": "stderr",
     "output_type": "stream",
     "text": [
      "/var/folders/06/47q5ms9540g4mnz8nnnyl32m0000gn/T/ipykernel_28000/27589574.py:3: DtypeWarning: Columns (12) have mixed types. Specify dtype option on import or set low_memory=False.\n",
      "  crime_df = pd.read_csv(csv_path)\n"
     ]
    }
   ],
   "source": [
    "\n",
    "def export_to_zip(csv_path, zip_path_1, zip_path_2, compression_level=9):\n",
    "    # Read the csv file\n",
    "    crime_df = pd.read_csv(csv_path)\n",
    "\n",
    "    # Filter the DataFrame based on the conditions\n",
    "    filtered_1 = crime_df.loc[(crime_df['Year'] == 2019)]\n",
    "    filtered_2 = crime_df.loc[(crime_df['Year'] == 2020)]\n",
    "    filtered_3 = crime_df.loc[(crime_df['Year'] == 2021)]\n",
    "    filtered_4 = crime_df.loc[(crime_df['Year'] == 2022)]\n",
    "    filtered_5 = crime_df.loc[(crime_df['Year'] == 2023)]\n",
    "\n",
    "    # Create a ZipFile and add the filtered data as separate CSV files with compression\n",
    "    with zipfile.ZipFile(zip_path_1, 'w', zipfile.ZIP_DEFLATED, compresslevel=compression_level) as zip_file_1:\n",
    "        zip_file_1.writestr('filtered_data_1.csv', filtered_1.to_csv(index=False))\n",
    "        zip_file_1.writestr('filtered_data_2.csv', filtered_2.to_csv(index=False))\n",
    "    \n",
    "    with zipfile.ZipFile(zip_path_2, 'w', zipfile.ZIP_DEFLATED, compresslevel=compression_level) as zip_file_2:\n",
    "        zip_file_2.writestr('filtered_data_3.csv', filtered_3.to_csv(index=False))\n",
    "        zip_file_2.writestr('filtered_data_4.csv', filtered_4.to_csv(index=False))\n",
    "        zip_file_2.writestr('filtered_data_5.csv', filtered_5.to_csv(index=False))\n",
    "\n",
    "csv_cleaned_path = \"/Users/galbeeir/Desktop/git/crime_analysis/crime_cleaned.csv\"\n",
    "zip_cleaned_path_1 = \"/Users/galbeeir/Desktop/git/crime_analysis/filtered_1.zip\"\n",
    "zip_cleaned_path_2 = \"/Users/galbeeir/Desktop/git/crime_analysis/filtered_2.zip\"\n",
    "\n",
    "export_to_zip(csv_cleaned_path, zip_cleaned_path_1, zip_cleaned_path_2)\n"
   ]
  },
  {
   "cell_type": "code",
   "execution_count": null,
   "metadata": {},
   "outputs": [],
   "source": []
  }
 ],
 "metadata": {
  "kernelspec": {
   "display_name": "dev",
   "language": "python",
   "name": "python3"
  },
  "language_info": {
   "codemirror_mode": {
    "name": "ipython",
    "version": 3
   },
   "file_extension": ".py",
   "mimetype": "text/x-python",
   "name": "python",
   "nbconvert_exporter": "python",
   "pygments_lexer": "ipython3",
   "version": "3.10.11"
  },
  "orig_nbformat": 4
 },
 "nbformat": 4,
 "nbformat_minor": 2
}

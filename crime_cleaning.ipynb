{
 "cells": [
  {
   "cell_type": "code",
   "execution_count": 2,
   "metadata": {},
   "outputs": [],
   "source": [
    "import pandas as pd\n",
    "import requests\n",
    "import json\n",
    "import os\n",
    "from config import geoapify_key\n",
    "from zipfile import ZipFile"
   ]
  },
  {
   "attachments": {},
   "cell_type": "markdown",
   "metadata": {},
   "source": [
    "### Data Processing"
   ]
  },
  {
   "cell_type": "code",
   "execution_count": 3,
   "metadata": {},
   "outputs": [],
   "source": [
    "# Zip File Extraction\n",
    "    # ? Insead of extracting one zip file at a given time, we will extract all the zip files using a for loop\n",
    "def unzip_files(zip_path, extract_path):\n",
    "    for zip_path in zip_paths:\n",
    "        with ZipFile (zip_path, 'r') as zObject:\n",
    "        # * Extracting all memebters of the zip files into a specific location\n",
    "            zObject.extractall(\n",
    "                path = extract_path\n",
    "            )\n",
    "# * Usage zip function - Variables:\n",
    "zip_paths = [\"/Users/galbeeir/Desktop/git/crime_analysis/Datasets_1.zip\", \"/Users/galbeeir/Desktop/git/crime_analysis/Datasets_2.zip\"]\n",
    "extract_path = \"/Users/galbeeir/Desktop/git/crime_analysis/\"\n",
    "\n",
    "# * Executing the zip function\n",
    "unzip_files(zip_paths, extract_path)\n"
   ]
  },
  {
   "cell_type": "code",
   "execution_count": null,
   "metadata": {},
   "outputs": [],
   "source": []
  }
 ],
 "metadata": {
  "kernelspec": {
   "display_name": "dev",
   "language": "python",
   "name": "python3"
  },
  "language_info": {
   "codemirror_mode": {
    "name": "ipython",
    "version": 3
   },
   "file_extension": ".py",
   "mimetype": "text/x-python",
   "name": "python",
   "nbconvert_exporter": "python",
   "pygments_lexer": "ipython3",
   "version": "3.10.11"
  },
  "orig_nbformat": 4
 },
 "nbformat": 4,
 "nbformat_minor": 2
}
